{
  "nbformat": 4,
  "nbformat_minor": 0,
  "metadata": {
    "colab": {
      "name": "RateMyAntibody.ipynb",
      "provenance": [],
      "collapsed_sections": []
    },
    "kernelspec": {
      "name": "python3",
      "display_name": "Python 3"
    },
    "language_info": {
      "name": "python"
    }
  },
  "cells": [
    {
      "cell_type": "code",
      "metadata": {
        "id": "deVk2PQv9f6X"
      },
      "source": [
        "import numpy as np\n",
        "import pandas as pd\n",
        "import re\n",
        "from imblearn.over_sampling import SMOTE\n",
        "from imblearn.under_sampling import RandomUnderSampler\n",
        "from imblearn.over_sampling import RandomOverSampler\n",
        "import seaborn as sns\n",
        "import matplotlib.pyplot as plt\n",
        "from sklearn.linear_model import LogisticRegression\n",
        "from sklearn.model_selection import cross_val_score\n",
        "from sklearn import svm"
      ],
      "execution_count": null,
      "outputs": []
    },
    {
      "cell_type": "code",
      "metadata": {
        "colab": {
          "base_uri": "https://localhost:8080/"
        },
        "id": "KjUx_v87AIgR",
        "outputId": "98581b0f-f495-4b26-8c52-9d7b6ca3ff4c"
      },
      "source": [
        "filename = \"covabdab_search_results.csv\"\n",
        "data = pd.read_csv(filename)\n",
        "with pd.option_context('expand_frame_repr', False):\n",
        "    print(data.head(20))\n",
        "print(\"Data shape: {}\".format(data.shape))"
      ],
      "execution_count": null,
      "outputs": [
        {
          "output_type": "stream",
          "text": [
            "         Name Ab or Nb          Binds to Doesn't Bind to Neutralising Vs Not Neutralising Vs Protein + Epitope                            Origin                                          VH or VHH                                                 VL        Heavy V Gene   Heavy J Gene      Light V Gene   Light J Gene                         CDRH3        CDRL3 Structures ABB Homology Model (if no structure)                                            Sources    Date Added  Last Updated Update Description Notes/Following Up?\n",
            "0    0304-2F8       Ab  SARS-CoV2 (weak)             NaN             NaN           SARS-CoV2            S; Unk  B-cells; SARS-CoV2 Human Patient  EVQLVQSGAEVSQPGESLKISCKGSGYSFTGYWISWVRQMPGKGLE...  EIVMTQSHTLLPVTPGEPASITCRSSQSLLHSNGYNYLDWYLQKPG...    IGHV5-51 (Human)  IGHJ6 (Human)  IGKV2-28 (Human)  IGKJ3 (Human)                ARRGDGLYYYGMDV    MQALQTPQT         ND                     download or view  Xiangyang Chi et al., 2020 (https://science.sc...  Jun 23, 2020  Jun 23, 2020                NaN            Complete\n",
            "1    0304-3H3       Ab         SARS-CoV2             NaN       SARS-CoV2                 NaN             S; S2  B-cells; SARS-CoV2 Human Patient  EVQLVESGPGLVKPSETLSLTCTASGGSISTYYWSWIRQPPGKGLE...  DIVMTQSPATLSVSPEERATLSCRASQSVSSNLAWYQQKPGQAPRL...    IGHV4-59 (Human)  IGHJ2 (Human)  IGKV3-15 (Human)  IGKJ1 (Human)            ARDRIAPVGKFFGWYFDL   QQYNKWPPWT         ND                     download or view  Xiangyang Chi et al., 2020 (https://science.sc...  Jun 23, 2020  Jun 23, 2020                NaN            Complete\n",
            "2   0304-4A10       Ab         SARS-CoV2             NaN             NaN           SARS-CoV2             S; S2  B-cells; SARS-CoV2 Human Patient  EVQLVESGGGLVQPGGSLRLSCAASGFTFSTYAMHWVRQAPGKGLE...  EIVLTQSPDSLAVSLGERATINCRSSQSVLYSSNNKNYLAWYQQKP...    IGHV3-64 (Human)  IGHJ4 (Human)   IGKV4-1 (Human)  IGKJ3 (Human)                    ARSSSRGFDY    QQYYSSPYA         ND                     download or view  Xiangyang Chi et al., 2020 (https://science.sc...  Jun 23, 2020  Jun 23, 2020                NaN            Complete\n",
            "3    0304-4A2       Ab         SARS-CoV2             NaN             NaN           SARS-CoV2     S; S1 non-RBD  B-cells; SARS-CoV2 Human Patient  EVQLVESGPGLVKPSETLSLTCAVSGDSTSSSSSYWDWIRQPPGKG...  EIVLTQSPDSLAVSLGERATINCKSSQSVLYSSNNKNYLAWYQQKP...    IGHV4-39 (Human)  IGHJ4 (Human)   IGKV4-1 (Human)  IGKJ1 (Human)              ARELFTAVAGKGGIDY    HQYYNTPRT         ND                     download or view  Xiangyang Chi et al., 2020 (https://science.sc...  Jun 23, 2020  Jun 23, 2020                NaN            Complete\n",
            "4     0317-A1       Ab         SARS-CoV2             NaN             NaN           SARS-CoV2             S; S2  B-cells; SARS-CoV2 Human Patient  QVQLVQSGGGVVQPGRSLRLSCAAPGFTFSSYGMHWVRQAPGKGLE...  DIVMTQSPATLSLSPGERATLSCRASQSVSSYLAWYQQKPGQAPRL...    IGHV3-30 (Human)  IGHJ6 (Human)  IGKV3-11 (Human)  IGKJ3 (Human)        AKDFKGGSSSWYTPEIEYGMDV    RQRSNWPPT         ND                     download or view  Xiangyang Chi et al., 2020 (https://science.sc...  Jun 23, 2020  Jun 23, 2020                NaN            Complete\n",
            "5     0317-A2       Ab         SARS-CoV2             NaN             NaN           SARS-CoV2             S; S2  B-cells; SARS-CoV2 Human Patient  QVQLVQSGSELKKPGASVKVSCKASGYTFTSYAMNWVRQAPGQGLE...  DIVMTQSPSSLSASVGDRVTITCRASQSISSYLNWYQQEPGKAPKL...   IGHV7-4-1 (Human)  IGHJ6 (Human)  IGKV1-39 (Human)  IGKJ3 (Human)  ARLIRHEAHTYCSGGSCYSPDYYYGMDV    QQSYSTPPT         ND                     download or view  Xiangyang Chi et al., 2020 (https://science.sc...  Jun 23, 2020  Jun 23, 2020                NaN            Complete\n",
            "6     0317-A3       Ab  SARS-CoV2 (weak)             NaN             NaN           SARS-CoV2            S; Unk  B-cells; SARS-CoV2 Human Patient  EVQLLQSGGGLVQPGGSLRLSCVASGFTFSSYEMNWVRQAPGKGLE...  DIQMTHSLILLSASVGDRVTITCRASQSISSYLNWYQQKPGKAPKL...    IGHV3-48 (Human)  IGHJ3 (Human)  IGKV1-39 (Human)  IGKJ1 (Human)                 ASNPPLGEPYFDI    QQTYRPPWT         ND                     download or view  Xiangyang Chi et al., 2020 (https://science.sc...  Jun 23, 2020  Jun 23, 2020                NaN            Complete\n",
            "7     0317-A7       Ab         SARS-CoV2             NaN             NaN           SARS-CoV2     S; S1 non-RBD  B-cells; SARS-CoV2 Human Patient  EVQLLESGGGVVQPGRSLRLSCAASGFTFSNYAMHWVRQAPGKGLE...  EIVVTQSLLSLPVTPGEPASISCRSSQSLLHSNGYNYLDWYLQKPG...  IGHV3-30-3 (Human)  IGHJ6 (Human)  IGKV2-28 (Human)  IGKJ1 (Human)                  ARWGGGMQYLDV    MQTLQTPYT         ND                     download or view  Xiangyang Chi et al., 2020 (https://science.sc...  Jun 23, 2020  Jun 23, 2020                NaN            Complete\n",
            "8     0317-A8       Ab  SARS-CoV2 (weak)             NaN             NaN           SARS-CoV2     S; S1 non-RBD  B-cells; SARS-CoV2 Human Patient  EVQLVQSGSELKKPGASVKVSCKASGYTFTSYAMNWVRQAPGQGLE...  DIQMTQSPSSLSASVGDRVTITCQASQDISNYLNWYQQKPGKAPKL...   IGHV7-4-1 (Human)  IGHJ4 (Human)  IGKV1-33 (Human)  IGKJ4 (Human)           ARAGPNYDFWSGYYQTFDY    QQYDNLPLT         ND                     download or view  Xiangyang Chi et al., 2020 (https://science.sc...  Jun 23, 2020  Jun 23, 2020                NaN            Complete\n",
            "9     0317-A9       Ab  SARS-CoV2 (weak)             NaN             NaN           SARS-CoV2            S; Unk  B-cells; SARS-CoV2 Human Patient  EVQLVQSGAEVKKPGASVKVSCKVSGYTLTELSMHWVRQAPGKGLE...  EIVMTQSPLSSPVTLGQPASISCRSSQSLVHSDGNTYLSWLQQRPG...    IGHV1-24 (Human)  IGHJ6 (Human)  IGKV2-24 (Human)  IGKJ3 (Human)             ATATAMDGYYYYYGMDV    MQATQFPYT         ND                     download or view  Xiangyang Chi et al., 2020 (https://science.sc...  Jun 23, 2020  Jun 23, 2020                NaN            Complete\n",
            "10    0317-B1       Ab  SARS-CoV2 (weak)             NaN             NaN           SARS-CoV2            S; Unk  B-cells; SARS-CoV2 Human Patient  EVQLVESGAEVKKPGESLKISCKGSGYSFTSYWIGWVRQMPGEGLE...  DIVMTHSLRLLAVSLGERATINCKSSQSVLYSSNNKNYLAWYQQKP...    IGHV5-51 (Human)  IGHJ3 (Human)   IGKV4-1 (Human)  IGKJ3 (Human)                ASAGSSWYGDAFDI    QQYYSTYGS         ND                     download or view  Xiangyang Chi et al., 2020 (https://science.sc...  Jun 23, 2020  Jun 23, 2020                NaN            Complete\n",
            "11    0317-C4       Ab  SARS-CoV2 (weak)             NaN             NaN           SARS-CoV2            S; Unk  B-cells; SARS-CoV2 Human Patient  QVQLVQSGAEVKKPGASVKVSCKVSGCTLTELSMHWVRQAPGKGLE...  QAVVTQPPSVSAAPGQKVTISCSGSSSNIGNNYVSWYQQLPGTAPK...    IGHV1-24 (Human)  IGHJ5 (Human)  IGLV1-51 (Human)  IGLJ3 (Human)               ATATIFGVANNWFDP  GTWDSSLSVVV         ND                     download or view  Xiangyang Chi et al., 2020 (https://science.sc...  Jun 23, 2020  Jun 23, 2020                NaN            Complete\n",
            "12    0317-C9       Ab         SARS-CoV2             NaN             NaN           SARS-CoV2             S; S2  B-cells; SARS-CoV2 Human Patient  QVQLVQSGGGVVQPGRSLRLSCAASGFTFSSYGMHWVRQAPGKGLE...  QAVVTQPPSASGTPGQRVTISCSGSSSNIGSNTVNWYQQLPGTAPK...    IGHV3-30 (Human)  IGHJ6 (Human)  IGLV1-44 (Human)  IGLJ3 (Human)     AKDLGYYDILTGQLGGYYYYYGMDV  AAWDDSLNGVV         ND                     download or view  Xiangyang Chi et al., 2020 (https://science.sc...  Jun 23, 2020  Jun 23, 2020                NaN            Complete\n",
            "13      10C10       Ab         SARS-CoV2             NaN             NaN           SARS-CoV2            S; Unk  B-cells; SARS-CoV2 Human Patient  QVQLVQSGGGLVQPGGSLRLSCAASGFTFSSYWMSWVRQAPGKGLE...  DIQLTQSPSSLSASVRNRVTITCRASQGIKNDLCWYQQKPGKAPKR...     IGHV3-7 (Human)  IGHJ3 (Human)  IGKV1-17 (Human)  IGKJ4 (Human)           ARDWDYDILTGSWFGAFDI    LQHNNYPLT         ND                     download or view  Xiangyang Chi et al., 2020 (https://science.sc...  Jun 23, 2020  Jun 23, 2020                NaN            Complete\n",
            "14     1M-1D2       Ab         SARS-CoV2             NaN       SARS-CoV2                 NaN            S; RBD  B-cells; SARS-CoV2 Human Patient  QVQLVESGGGLVQPGGSLRLSCAASGFTFSSYAMHWVRQAPGKGLE...  QAVVTQPPSASGTPGQRVTISCSGSSSNIGSNYVYWYQQLPGTAPK...    IGHV3-64 (Human)  IGHJ4 (Human)  IGLV1-47 (Human)  IGLJ3 (Human)          ARGAEYYDFWSGYYSAYFDY  AAWDDSLIYVL         ND                     download or view  Xiangyang Chi et al., 2020 (https://science.sc...  Jun 23, 2020  Jun 23, 2020                NaN            Complete\n",
            "15   2M-10B11       Ab         SARS-CoV2             NaN             NaN           SARS-CoV2            S; RBD  B-cells; SARS-CoV2 Human Patient  EVQLVESGGGLVQPGGSLRLSCAASGFTVSSNYMSWVRQAPGKGLE...  QSALTQPHSVSESPGKTVTISCTGSSGSIASNYVQWYQQRPGSAPT...    IGHV3-66 (Human)  IGHJ6 (Human)  IGLV6-57 (Human)  IGLJ3 (Human)                 ARATWLRGVMDVW   QSYDSSNHWV         ND                     download or view  Xiangyang Chi et al., 2020 (https://science.sc...  Jun 23, 2020  Jun 23, 2020                NaN            Complete\n",
            "16    2M-12D7       Ab         SARS-CoV2             NaN             NaN           SARS-CoV2             S; S2  B-cells; SARS-CoV2 Human Patient  EVQLVESGGGLVQPGRSLRLSCAASGFTFDDYVMHWVRQAPGKGLE...  AIRMTQSPSSLSASVGDRVTITCRASQSITGYLNWYQQKPGKAPKL...     IGHV3-9 (Human)  IGHJ3 (Human)  IGKV1-39 (Human)  IGKJ3 (Human)           AKDVRYCSSTSCYFSAFDI    QQSYSTPRT         ND                     download or view  Xiangyang Chi et al., 2020 (https://science.sc...  Jun 23, 2020  Jun 23, 2020                NaN            Complete\n",
            "17    2M-13A3       Ab         SARS-CoV2             NaN             NaN           SARS-CoV2             S; S2  B-cells; SARS-CoV2 Human Patient  EVQLVESGGGVVQPGRSLRLSCAASGFTFSGYAMHWVRQAPGKGLE...  AIRMTQSPDSLAVSLGERATINCKSSQSVLYSPNNKNYLAWYQQKP...    IGHV3-30 (Human)  IGHJ3 (Human)   IGKV4-1 (Human)  IGKJ5 (Human)                 ARGGGSYYYWFDP    QQYYSTPFT         ND                     download or view  Xiangyang Chi et al., 2020 (https://science.sc...  Jun 23, 2020  Jun 23, 2020                NaN            Complete\n",
            "18   2M-13D11       Ab         SARS-CoV2             NaN             NaN           SARS-CoV2             S; S2  B-cells; SARS-CoV2 Human Patient  EVQLVQWGAGLLKPSETLSLTCAVYGGSFSGYYWSWIRQPPGKGLE...  EIVMTQSPGTLSLSPGERATLSCRASQSVSSSYLAWYQQKPGQAPR...    IGHV4-34 (Human)  IGHJ3 (Human)  IGKV3-20 (Human)  IGKJ1 (Human)             ARAGYSSSWYGVRGVDP   QQYGSSRSWT         ND                     download or view  Xiangyang Chi et al., 2020 (https://science.sc...  Jun 23, 2020  Jun 23, 2020                NaN            Complete\n",
            "19    2M-14B2       Ab         SARS-CoV2             NaN             NaN           SARS-CoV2             S; S2  B-cells; SARS-CoV2 Human Patient  QVQLLQSGGGVVQPGRSLRLSCAASGFTFSTYGMHWVRQAPGKGLE...  AIRMTQSPSSLSASVGDRVTITCRASQSISSYLNWYQQKPGKAPKL...    IGHV3-30 (Human)  IGHJ5 (Human)  IGKV1-39 (Human)  IGKJ3 (Human)             AKGSDIVVVPVGNWFDP  QQSYSTFTLYT         ND                     download or view  Xiangyang Chi et al., 2020 (https://science.sc...  Jun 23, 2020  Jun 23, 2020                NaN            Complete\n",
            "Data shape: (1583, 23)\n"
          ],
          "name": "stdout"
        }
      ]
    },
    {
      "cell_type": "code",
      "metadata": {
        "id": "LSLWXXDQBKeO"
      },
      "source": [
        " # Add columns which are not useful like 'Sources' and we want to remove directly in the below list\n",
        "data2 = data.drop(columns=['Name','CDRH3','CDRL3','Protein + Epitope','Origin','Ab or Nb','Heavy V Gene','Heavy J Gene','Light V Gene','Light J Gene','Sources','Update Description',\"Doesn't Bind to\",\"Date Added\",\"Last Updated\",\"Notes/Following Up?\",\"Structures\",\"ABB Homology Model (if no structure)\",\"Not Neutralising Vs\"])\n",
        "\n",
        "colnew = []\n",
        "for string in data2[\"Neutralising Vs\"]:\n",
        "  if(string==\"SARS-CoV2\"):\n",
        "    colnew.append(1)\n",
        "  else:\n",
        "    colnew.append(0)\n",
        "\n",
        "data2[\"Neutralising Vs\"] = colnew\n"
      ],
      "execution_count": null,
      "outputs": []
    },
    {
      "cell_type": "code",
      "metadata": {
        "id": "DuggfQr6F1pS",
        "colab": {
          "base_uri": "https://localhost:8080/"
        },
        "outputId": "cd8b7268-e040-4b8e-9769-6e4cdf271f25"
      },
      "source": [
        "with pd.option_context('expand_frame_repr', False):\n",
        "    print(data2.head(20))"
      ],
      "execution_count": null,
      "outputs": [
        {
          "output_type": "stream",
          "text": [
            "            Binds to  Neutralising Vs                                          VH or VHH                                                 VL\n",
            "0   SARS-CoV2 (weak)                0  EVQLVQSGAEVSQPGESLKISCKGSGYSFTGYWISWVRQMPGKGLE...  EIVMTQSHTLLPVTPGEPASITCRSSQSLLHSNGYNYLDWYLQKPG...\n",
            "1          SARS-CoV2                1  EVQLVESGPGLVKPSETLSLTCTASGGSISTYYWSWIRQPPGKGLE...  DIVMTQSPATLSVSPEERATLSCRASQSVSSNLAWYQQKPGQAPRL...\n",
            "2          SARS-CoV2                0  EVQLVESGGGLVQPGGSLRLSCAASGFTFSTYAMHWVRQAPGKGLE...  EIVLTQSPDSLAVSLGERATINCRSSQSVLYSSNNKNYLAWYQQKP...\n",
            "3          SARS-CoV2                0  EVQLVESGPGLVKPSETLSLTCAVSGDSTSSSSSYWDWIRQPPGKG...  EIVLTQSPDSLAVSLGERATINCKSSQSVLYSSNNKNYLAWYQQKP...\n",
            "4          SARS-CoV2                0  QVQLVQSGGGVVQPGRSLRLSCAAPGFTFSSYGMHWVRQAPGKGLE...  DIVMTQSPATLSLSPGERATLSCRASQSVSSYLAWYQQKPGQAPRL...\n",
            "5          SARS-CoV2                0  QVQLVQSGSELKKPGASVKVSCKASGYTFTSYAMNWVRQAPGQGLE...  DIVMTQSPSSLSASVGDRVTITCRASQSISSYLNWYQQEPGKAPKL...\n",
            "6   SARS-CoV2 (weak)                0  EVQLLQSGGGLVQPGGSLRLSCVASGFTFSSYEMNWVRQAPGKGLE...  DIQMTHSLILLSASVGDRVTITCRASQSISSYLNWYQQKPGKAPKL...\n",
            "7          SARS-CoV2                0  EVQLLESGGGVVQPGRSLRLSCAASGFTFSNYAMHWVRQAPGKGLE...  EIVVTQSLLSLPVTPGEPASISCRSSQSLLHSNGYNYLDWYLQKPG...\n",
            "8   SARS-CoV2 (weak)                0  EVQLVQSGSELKKPGASVKVSCKASGYTFTSYAMNWVRQAPGQGLE...  DIQMTQSPSSLSASVGDRVTITCQASQDISNYLNWYQQKPGKAPKL...\n",
            "9   SARS-CoV2 (weak)                0  EVQLVQSGAEVKKPGASVKVSCKVSGYTLTELSMHWVRQAPGKGLE...  EIVMTQSPLSSPVTLGQPASISCRSSQSLVHSDGNTYLSWLQQRPG...\n",
            "10  SARS-CoV2 (weak)                0  EVQLVESGAEVKKPGESLKISCKGSGYSFTSYWIGWVRQMPGEGLE...  DIVMTHSLRLLAVSLGERATINCKSSQSVLYSSNNKNYLAWYQQKP...\n",
            "11  SARS-CoV2 (weak)                0  QVQLVQSGAEVKKPGASVKVSCKVSGCTLTELSMHWVRQAPGKGLE...  QAVVTQPPSVSAAPGQKVTISCSGSSSNIGNNYVSWYQQLPGTAPK...\n",
            "12         SARS-CoV2                0  QVQLVQSGGGVVQPGRSLRLSCAASGFTFSSYGMHWVRQAPGKGLE...  QAVVTQPPSASGTPGQRVTISCSGSSSNIGSNTVNWYQQLPGTAPK...\n",
            "13         SARS-CoV2                0  QVQLVQSGGGLVQPGGSLRLSCAASGFTFSSYWMSWVRQAPGKGLE...  DIQLTQSPSSLSASVRNRVTITCRASQGIKNDLCWYQQKPGKAPKR...\n",
            "14         SARS-CoV2                1  QVQLVESGGGLVQPGGSLRLSCAASGFTFSSYAMHWVRQAPGKGLE...  QAVVTQPPSASGTPGQRVTISCSGSSSNIGSNYVYWYQQLPGTAPK...\n",
            "15         SARS-CoV2                0  EVQLVESGGGLVQPGGSLRLSCAASGFTVSSNYMSWVRQAPGKGLE...  QSALTQPHSVSESPGKTVTISCTGSSGSIASNYVQWYQQRPGSAPT...\n",
            "16         SARS-CoV2                0  EVQLVESGGGLVQPGRSLRLSCAASGFTFDDYVMHWVRQAPGKGLE...  AIRMTQSPSSLSASVGDRVTITCRASQSITGYLNWYQQKPGKAPKL...\n",
            "17         SARS-CoV2                0  EVQLVESGGGVVQPGRSLRLSCAASGFTFSGYAMHWVRQAPGKGLE...  AIRMTQSPDSLAVSLGERATINCKSSQSVLYSPNNKNYLAWYQQKP...\n",
            "18         SARS-CoV2                0  EVQLVQWGAGLLKPSETLSLTCAVYGGSFSGYYWSWIRQPPGKGLE...  EIVMTQSPGTLSLSPGERATLSCRASQSVSSSYLAWYQQKPGQAPR...\n",
            "19         SARS-CoV2                0  QVQLLQSGGGVVQPGRSLRLSCAASGFTFSTYGMHWVRQAPGKGLE...  AIRMTQSPSSLSASVGDRVTITCRASQSISSYLNWYQQKPGKAPKL...\n"
          ],
          "name": "stdout"
        }
      ]
    },
    {
      "cell_type": "code",
      "metadata": {
        "colab": {
          "base_uri": "https://localhost:8080/",
          "height": 443
        },
        "id": "L_K_eC_ew1eA",
        "outputId": "9d5671cd-2286-4410-ab0d-4ad13d22280d"
      },
      "source": [
        "list_without_weak = []\n",
        "\n",
        "for row in data2.itertuples(index = False):\n",
        "  if(row[0]==\"SARS-CoV2\"):\n",
        "      list_without_weak.append(row)\n",
        "\n",
        "list_without_weak = np.array(list_without_weak)\n",
        "df = pd.DataFrame(list_without_weak, columns = ['binds', 'neutralizing', 'seq1', 'seq2'])\n",
        "\n",
        "df =  df.drop(columns=[\"binds\"])\n",
        "df = df[df[\"seq1\"]!=\"ND\"]\n",
        "df =  df[df[\"seq2\"]!=\"ND\"]\n",
        "train = df\n",
        "\n",
        "train"
      ],
      "execution_count": null,
      "outputs": [
        {
          "output_type": "execute_result",
          "data": {
            "text/html": [
              "<div>\n",
              "<style scoped>\n",
              "    .dataframe tbody tr th:only-of-type {\n",
              "        vertical-align: middle;\n",
              "    }\n",
              "\n",
              "    .dataframe tbody tr th {\n",
              "        vertical-align: top;\n",
              "    }\n",
              "\n",
              "    .dataframe thead th {\n",
              "        text-align: right;\n",
              "    }\n",
              "</style>\n",
              "<table border=\"1\" class=\"dataframe\">\n",
              "  <thead>\n",
              "    <tr style=\"text-align: right;\">\n",
              "      <th></th>\n",
              "      <th>neutralizing</th>\n",
              "      <th>seq1</th>\n",
              "      <th>seq2</th>\n",
              "    </tr>\n",
              "  </thead>\n",
              "  <tbody>\n",
              "    <tr>\n",
              "      <th>0</th>\n",
              "      <td>1</td>\n",
              "      <td>EVQLVESGPGLVKPSETLSLTCTASGGSISTYYWSWIRQPPGKGLE...</td>\n",
              "      <td>DIVMTQSPATLSVSPEERATLSCRASQSVSSNLAWYQQKPGQAPRL...</td>\n",
              "    </tr>\n",
              "    <tr>\n",
              "      <th>1</th>\n",
              "      <td>0</td>\n",
              "      <td>EVQLVESGGGLVQPGGSLRLSCAASGFTFSTYAMHWVRQAPGKGLE...</td>\n",
              "      <td>EIVLTQSPDSLAVSLGERATINCRSSQSVLYSSNNKNYLAWYQQKP...</td>\n",
              "    </tr>\n",
              "    <tr>\n",
              "      <th>2</th>\n",
              "      <td>0</td>\n",
              "      <td>EVQLVESGPGLVKPSETLSLTCAVSGDSTSSSSSYWDWIRQPPGKG...</td>\n",
              "      <td>EIVLTQSPDSLAVSLGERATINCKSSQSVLYSSNNKNYLAWYQQKP...</td>\n",
              "    </tr>\n",
              "    <tr>\n",
              "      <th>3</th>\n",
              "      <td>0</td>\n",
              "      <td>QVQLVQSGGGVVQPGRSLRLSCAAPGFTFSSYGMHWVRQAPGKGLE...</td>\n",
              "      <td>DIVMTQSPATLSLSPGERATLSCRASQSVSSYLAWYQQKPGQAPRL...</td>\n",
              "    </tr>\n",
              "    <tr>\n",
              "      <th>4</th>\n",
              "      <td>0</td>\n",
              "      <td>QVQLVQSGSELKKPGASVKVSCKASGYTFTSYAMNWVRQAPGQGLE...</td>\n",
              "      <td>DIVMTQSPSSLSASVGDRVTITCRASQSISSYLNWYQQEPGKAPKL...</td>\n",
              "    </tr>\n",
              "    <tr>\n",
              "      <th>...</th>\n",
              "      <td>...</td>\n",
              "      <td>...</td>\n",
              "      <td>...</td>\n",
              "    </tr>\n",
              "    <tr>\n",
              "      <th>1165</th>\n",
              "      <td>1</td>\n",
              "      <td>QVQLVQSGAEVKKPGASVKVSCKASGYTFTGYYMHWVRQAPGQGLE...</td>\n",
              "      <td>QSVLTQPASVSGSPGQSITISCTGTSSDVGSYNLVSWYQQHPGKAP...</td>\n",
              "    </tr>\n",
              "    <tr>\n",
              "      <th>1167</th>\n",
              "      <td>0</td>\n",
              "      <td>QVQLVQSGAEVKKPGASVKVSCKASGYTFTNYFIHWVRQAPGQGLE...</td>\n",
              "      <td>QSVLTQPPSASGTPGQRVTISCSGSTSNIGSNAVNWYQQLPGTAPK...</td>\n",
              "    </tr>\n",
              "    <tr>\n",
              "      <th>1168</th>\n",
              "      <td>1</td>\n",
              "      <td>EVQLLESGGGLVQPGGSLRLSCAASGFTFSSYAMNWVRQAPGKGLE...</td>\n",
              "      <td>SYELTQPPSVSVSPGQTARITCSGDALPRHYSYWYQQKPGQAPVLL...</td>\n",
              "    </tr>\n",
              "    <tr>\n",
              "      <th>1171</th>\n",
              "      <td>1</td>\n",
              "      <td>EVQLVESGGGLVQPGGSLRLSCAASGFTVRSNYMSWVRQAPGKGLE...</td>\n",
              "      <td>DIQLTQSPSFLSASVGDRVTITCRASQGISSYLAWYQQKPGKAPKL...</td>\n",
              "    </tr>\n",
              "    <tr>\n",
              "      <th>1172</th>\n",
              "      <td>1</td>\n",
              "      <td>EVQLLESGGGLVQPGGSLRLSCAASGFTFSNYVMSWVRQAPGKGLE...</td>\n",
              "      <td>QSALTQPASVSGSPGQSITISCTGTSSDVGGYDYVSWYQQHPGKAP...</td>\n",
              "    </tr>\n",
              "  </tbody>\n",
              "</table>\n",
              "<p>1087 rows × 3 columns</p>\n",
              "</div>"
            ],
            "text/plain": [
              "     neutralizing  ...                                               seq2\n",
              "0               1  ...  DIVMTQSPATLSVSPEERATLSCRASQSVSSNLAWYQQKPGQAPRL...\n",
              "1               0  ...  EIVLTQSPDSLAVSLGERATINCRSSQSVLYSSNNKNYLAWYQQKP...\n",
              "2               0  ...  EIVLTQSPDSLAVSLGERATINCKSSQSVLYSSNNKNYLAWYQQKP...\n",
              "3               0  ...  DIVMTQSPATLSLSPGERATLSCRASQSVSSYLAWYQQKPGQAPRL...\n",
              "4               0  ...  DIVMTQSPSSLSASVGDRVTITCRASQSISSYLNWYQQEPGKAPKL...\n",
              "...           ...  ...                                                ...\n",
              "1165            1  ...  QSVLTQPASVSGSPGQSITISCTGTSSDVGSYNLVSWYQQHPGKAP...\n",
              "1167            0  ...  QSVLTQPPSASGTPGQRVTISCSGSTSNIGSNAVNWYQQLPGTAPK...\n",
              "1168            1  ...  SYELTQPPSVSVSPGQTARITCSGDALPRHYSYWYQQKPGQAPVLL...\n",
              "1171            1  ...  DIQLTQSPSFLSASVGDRVTITCRASQGISSYLAWYQQKPGKAPKL...\n",
              "1172            1  ...  QSALTQPASVSGSPGQSITISCTGTSSDVGGYDYVSWYQQHPGKAP...\n",
              "\n",
              "[1087 rows x 3 columns]"
            ]
          },
          "metadata": {
            "tags": []
          },
          "execution_count": 7
        }
      ]
    },
    {
      "cell_type": "code",
      "metadata": {
        "id": "w_PUr2LdwfOL",
        "colab": {
          "base_uri": "https://localhost:8080/"
        },
        "outputId": "85517756-3652-4e32-81aa-65e1a27305d8"
      },
      "source": [
        "# Generating PFeatures\n",
        "# List of 21 amino acids\n",
        "aminoAcids = ['A','R','N','D','C','Q','E','G','H','I','L','K','M','F','P','S','T','W','Y','V','X']\n",
        "\n",
        "# Dipeptide array generation\n",
        "di_peptide_array = []\n",
        "for i in range(len(aminoAcids)):\n",
        "  for j in range(len(aminoAcids)):\n",
        "    di_peptide_array.append(aminoAcids[i]+\"\"+aminoAcids[j])\n",
        "\n",
        "\n",
        "# Computing aminoacids composition features\n",
        "# train = data\n",
        "for aminoAcid in aminoAcids:\n",
        "  list_column = []\n",
        "  for sequence in train['seq1']:\n",
        "    num = sequence.count(aminoAcid)\n",
        "    den = len(sequence)\n",
        "    temp = num/den\n",
        "    list_column.append(temp)\n",
        "  train[aminoAcid+\"a1\"]=list_column\n",
        "\n",
        "\n",
        "for aminoAcid in aminoAcids:\n",
        "  list_column = []\n",
        "  for sequence in train['seq2']:\n",
        "    num = sequence.count(aminoAcid)\n",
        "    den = len(sequence)\n",
        "    temp = num/den\n",
        "    list_column.append(temp)\n",
        "  train[aminoAcid+\"a2\"]=list_column\n",
        "\n",
        "\n",
        "\n",
        "\n",
        "print(di_peptide_array)\n",
        "print(train)"
      ],
      "execution_count": null,
      "outputs": [
        {
          "output_type": "stream",
          "text": [
            "['AA', 'AR', 'AN', 'AD', 'AC', 'AQ', 'AE', 'AG', 'AH', 'AI', 'AL', 'AK', 'AM', 'AF', 'AP', 'AS', 'AT', 'AW', 'AY', 'AV', 'AX', 'RA', 'RR', 'RN', 'RD', 'RC', 'RQ', 'RE', 'RG', 'RH', 'RI', 'RL', 'RK', 'RM', 'RF', 'RP', 'RS', 'RT', 'RW', 'RY', 'RV', 'RX', 'NA', 'NR', 'NN', 'ND', 'NC', 'NQ', 'NE', 'NG', 'NH', 'NI', 'NL', 'NK', 'NM', 'NF', 'NP', 'NS', 'NT', 'NW', 'NY', 'NV', 'NX', 'DA', 'DR', 'DN', 'DD', 'DC', 'DQ', 'DE', 'DG', 'DH', 'DI', 'DL', 'DK', 'DM', 'DF', 'DP', 'DS', 'DT', 'DW', 'DY', 'DV', 'DX', 'CA', 'CR', 'CN', 'CD', 'CC', 'CQ', 'CE', 'CG', 'CH', 'CI', 'CL', 'CK', 'CM', 'CF', 'CP', 'CS', 'CT', 'CW', 'CY', 'CV', 'CX', 'QA', 'QR', 'QN', 'QD', 'QC', 'QQ', 'QE', 'QG', 'QH', 'QI', 'QL', 'QK', 'QM', 'QF', 'QP', 'QS', 'QT', 'QW', 'QY', 'QV', 'QX', 'EA', 'ER', 'EN', 'ED', 'EC', 'EQ', 'EE', 'EG', 'EH', 'EI', 'EL', 'EK', 'EM', 'EF', 'EP', 'ES', 'ET', 'EW', 'EY', 'EV', 'EX', 'GA', 'GR', 'GN', 'GD', 'GC', 'GQ', 'GE', 'GG', 'GH', 'GI', 'GL', 'GK', 'GM', 'GF', 'GP', 'GS', 'GT', 'GW', 'GY', 'GV', 'GX', 'HA', 'HR', 'HN', 'HD', 'HC', 'HQ', 'HE', 'HG', 'HH', 'HI', 'HL', 'HK', 'HM', 'HF', 'HP', 'HS', 'HT', 'HW', 'HY', 'HV', 'HX', 'IA', 'IR', 'IN', 'ID', 'IC', 'IQ', 'IE', 'IG', 'IH', 'II', 'IL', 'IK', 'IM', 'IF', 'IP', 'IS', 'IT', 'IW', 'IY', 'IV', 'IX', 'LA', 'LR', 'LN', 'LD', 'LC', 'LQ', 'LE', 'LG', 'LH', 'LI', 'LL', 'LK', 'LM', 'LF', 'LP', 'LS', 'LT', 'LW', 'LY', 'LV', 'LX', 'KA', 'KR', 'KN', 'KD', 'KC', 'KQ', 'KE', 'KG', 'KH', 'KI', 'KL', 'KK', 'KM', 'KF', 'KP', 'KS', 'KT', 'KW', 'KY', 'KV', 'KX', 'MA', 'MR', 'MN', 'MD', 'MC', 'MQ', 'ME', 'MG', 'MH', 'MI', 'ML', 'MK', 'MM', 'MF', 'MP', 'MS', 'MT', 'MW', 'MY', 'MV', 'MX', 'FA', 'FR', 'FN', 'FD', 'FC', 'FQ', 'FE', 'FG', 'FH', 'FI', 'FL', 'FK', 'FM', 'FF', 'FP', 'FS', 'FT', 'FW', 'FY', 'FV', 'FX', 'PA', 'PR', 'PN', 'PD', 'PC', 'PQ', 'PE', 'PG', 'PH', 'PI', 'PL', 'PK', 'PM', 'PF', 'PP', 'PS', 'PT', 'PW', 'PY', 'PV', 'PX', 'SA', 'SR', 'SN', 'SD', 'SC', 'SQ', 'SE', 'SG', 'SH', 'SI', 'SL', 'SK', 'SM', 'SF', 'SP', 'SS', 'ST', 'SW', 'SY', 'SV', 'SX', 'TA', 'TR', 'TN', 'TD', 'TC', 'TQ', 'TE', 'TG', 'TH', 'TI', 'TL', 'TK', 'TM', 'TF', 'TP', 'TS', 'TT', 'TW', 'TY', 'TV', 'TX', 'WA', 'WR', 'WN', 'WD', 'WC', 'WQ', 'WE', 'WG', 'WH', 'WI', 'WL', 'WK', 'WM', 'WF', 'WP', 'WS', 'WT', 'WW', 'WY', 'WV', 'WX', 'YA', 'YR', 'YN', 'YD', 'YC', 'YQ', 'YE', 'YG', 'YH', 'YI', 'YL', 'YK', 'YM', 'YF', 'YP', 'YS', 'YT', 'YW', 'YY', 'YV', 'YX', 'VA', 'VR', 'VN', 'VD', 'VC', 'VQ', 'VE', 'VG', 'VH', 'VI', 'VL', 'VK', 'VM', 'VF', 'VP', 'VS', 'VT', 'VW', 'VY', 'VV', 'VX', 'XA', 'XR', 'XN', 'XD', 'XC', 'XQ', 'XE', 'XG', 'XH', 'XI', 'XL', 'XK', 'XM', 'XF', 'XP', 'XS', 'XT', 'XW', 'XY', 'XV', 'XX']\n",
            "     neutralizing  ...  Xa2\n",
            "0               1  ...  0.0\n",
            "1               0  ...  0.0\n",
            "2               0  ...  0.0\n",
            "3               0  ...  0.0\n",
            "4               0  ...  0.0\n",
            "...           ...  ...  ...\n",
            "1165            1  ...  0.0\n",
            "1167            0  ...  0.0\n",
            "1168            1  ...  0.0\n",
            "1171            1  ...  0.0\n",
            "1172            1  ...  0.0\n",
            "\n",
            "[1087 rows x 45 columns]\n"
          ],
          "name": "stdout"
        }
      ]
    },
    {
      "cell_type": "code",
      "metadata": {
        "id": "Lp3SOmYCwgvz",
        "colab": {
          "base_uri": "https://localhost:8080/"
        },
        "outputId": "54810c09-f71e-4098-9ecc-3bbfc4c0b885"
      },
      "source": [
        "# Main 1st order dipeptide Feature Generation\n",
        "for dp in di_peptide_array:\n",
        "  di_gap = []\n",
        "  for sequence in train['seq1']:\n",
        "    pattern = dp[0]+'[A-Z]'+dp[1]\n",
        "    if (len(sequence)-1>0):\n",
        "      di_gap.append(len(re.findall(pattern,sequence))/(len(sequence)-1))\n",
        "    else:\n",
        "      di_gap.append(0)\n",
        "  train[dp+'_z1']=di_gap\n",
        "\n",
        "\n",
        "for dp in di_peptide_array:\n",
        "  di_gap = []\n",
        "  for sequence in train['seq2']:\n",
        "    pattern = dp[0]+'[A-Z]'+dp[1]\n",
        "    if (len(sequence)-1>0):\n",
        "      di_gap.append(len(re.findall(pattern,sequence))/(len(sequence)-1))\n",
        "    else:\n",
        "      di_gap.append(0)\n",
        "  train[dp+'_z2']=di_gap\n",
        "\n",
        "train =  train.drop(columns=[\"seq1\",\"seq2\"])\n",
        "\n",
        "print(train)"
      ],
      "execution_count": null,
      "outputs": [
        {
          "output_type": "stream",
          "text": [
            "     neutralizing       Aa1       Ra1       Na1  ...  XW_z2  XY_z2  XV_z2  XX_z2\n",
            "0               1  0.048387  0.040323  0.024194  ...    0.0    0.0    0.0    0.0\n",
            "1               0  0.068376  0.059829  0.034188  ...    0.0    0.0    0.0    0.0\n",
            "2               0  0.056452  0.024194  0.016129  ...    0.0    0.0    0.0    0.0\n",
            "3               0  0.062016  0.046512  0.031008  ...    0.0    0.0    0.0    0.0\n",
            "4               0  0.074074  0.029630  0.029630  ...    0.0    0.0    0.0    0.0\n",
            "...           ...       ...       ...       ...  ...    ...    ...    ...    ...\n",
            "1165            1  0.071429  0.039683  0.023810  ...    0.0    0.0    0.0    0.0\n",
            "1167            0  0.065041  0.048780  0.024390  ...    0.0    0.0    0.0    0.0\n",
            "1168            1  0.072581  0.048387  0.032258  ...    0.0    0.0    0.0    0.0\n",
            "1171            1  0.068376  0.059829  0.034188  ...    0.0    0.0    0.0    0.0\n",
            "1172            1  0.073171  0.040650  0.032520  ...    0.0    0.0    0.0    0.0\n",
            "\n",
            "[1087 rows x 925 columns]\n"
          ],
          "name": "stdout"
        }
      ]
    },
    {
      "cell_type": "code",
      "metadata": {
        "colab": {
          "base_uri": "https://localhost:8080/"
        },
        "id": "7Dw3lsxc35sc",
        "outputId": "766b8c7f-6b67-4311-e9a2-13c967b2c5f6"
      },
      "source": [
        "Y = train['neutralizing']\n",
        "X = train.drop(columns=['neutralizing'])\n",
        "\n",
        "print(X)\n",
        "print(Y)"
      ],
      "execution_count": null,
      "outputs": [
        {
          "output_type": "stream",
          "text": [
            "           Aa1       Ra1       Na1       Da1  ...  XW_z2  XY_z2  XV_z2  XX_z2\n",
            "0     0.048387  0.040323  0.024194  0.032258  ...    0.0    0.0    0.0    0.0\n",
            "1     0.068376  0.059829  0.034188  0.025641  ...    0.0    0.0    0.0    0.0\n",
            "2     0.056452  0.024194  0.016129  0.048387  ...    0.0    0.0    0.0    0.0\n",
            "3     0.062016  0.046512  0.031008  0.046512  ...    0.0    0.0    0.0    0.0\n",
            "4     0.074074  0.029630  0.029630  0.029630  ...    0.0    0.0    0.0    0.0\n",
            "...        ...       ...       ...       ...  ...    ...    ...    ...    ...\n",
            "1165  0.071429  0.039683  0.023810  0.039683  ...    0.0    0.0    0.0    0.0\n",
            "1167  0.065041  0.048780  0.024390  0.024390  ...    0.0    0.0    0.0    0.0\n",
            "1168  0.072581  0.048387  0.032258  0.056452  ...    0.0    0.0    0.0    0.0\n",
            "1171  0.068376  0.059829  0.034188  0.042735  ...    0.0    0.0    0.0    0.0\n",
            "1172  0.073171  0.040650  0.032520  0.040650  ...    0.0    0.0    0.0    0.0\n",
            "\n",
            "[1087 rows x 924 columns]\n",
            "0       1\n",
            "1       0\n",
            "2       0\n",
            "3       0\n",
            "4       0\n",
            "       ..\n",
            "1165    1\n",
            "1167    0\n",
            "1168    1\n",
            "1171    1\n",
            "1172    1\n",
            "Name: neutralizing, Length: 1087, dtype: object\n"
          ],
          "name": "stdout"
        }
      ]
    },
    {
      "cell_type": "code",
      "metadata": {
        "colab": {
          "base_uri": "https://localhost:8080/"
        },
        "id": "wqH4EQgN8VTh",
        "outputId": "f6a09c08-7509-4977-f101-62095ce87cac"
      },
      "source": [
        "# OVERSAMPLING\n",
        "oversample = RandomOverSampler(sampling_strategy='minority')\n",
        "X, Y = oversample.fit_resample(X,Y)\n",
        "\n",
        "print(X.shape)\n",
        "print(Y.shape)"
      ],
      "execution_count": null,
      "outputs": [
        {
          "output_type": "stream",
          "text": [
            "(1502, 924)\n",
            "(1502,)\n"
          ],
          "name": "stdout"
        },
        {
          "output_type": "stream",
          "text": [
            "/usr/local/lib/python3.7/dist-packages/sklearn/utils/deprecation.py:87: FutureWarning: Function safe_indexing is deprecated; safe_indexing is deprecated in version 0.22 and will be removed in version 0.24.\n",
            "  warnings.warn(msg, category=FutureWarning)\n"
          ],
          "name": "stderr"
        }
      ]
    },
    {
      "cell_type": "code",
      "metadata": {
        "id": "RBNg73bQ44DZ",
        "colab": {
          "base_uri": "https://localhost:8080/"
        },
        "outputId": "609ba9e9-9785-4aec-f8c9-aa01932a69ba"
      },
      "source": [
        "# Applying Random Forest\n",
        "from sklearn.ensemble import RandomForestClassifier\n",
        "clf = RandomForestClassifier(random_state=0,n_estimators=1000)\n",
        "clf.fit(X, Y)\n",
        "print(clf.score(X,Y))"
      ],
      "execution_count": null,
      "outputs": [
        {
          "output_type": "stream",
          "text": [
            "0.9946737683089214\n"
          ],
          "name": "stdout"
        }
      ]
    },
    {
      "cell_type": "code",
      "metadata": {
        "id": "tXaL_qzh7HJK",
        "colab": {
          "base_uri": "https://localhost:8080/"
        },
        "outputId": "31a5d0d8-5481-4e06-d5fc-d837420f166f"
      },
      "source": [
        "clf = svm.SVC(kernel='rbf', C=50, random_state=42)\n",
        "scores = cross_val_score(clf, X, Y, cv=4)\n",
        "print(scores)"
      ],
      "execution_count": null,
      "outputs": [
        {
          "output_type": "stream",
          "text": [
            "[0.80585106 0.78723404 0.79733333 0.81333333]\n"
          ],
          "name": "stdout"
        }
      ]
    },
    {
      "cell_type": "code",
      "metadata": {
        "id": "qcspNHZDBn8r",
        "colab": {
          "base_uri": "https://localhost:8080/",
          "height": 338
        },
        "outputId": "9bf04feb-a4e0-4fd2-c6f3-6db1691e3c8f"
      },
      "source": [
        "def plot_seq_count(df, data_name):\n",
        "  sns.distplot(df['seq_char_count'].values)\n",
        "  plt.title(f'Sequence char count: {data_name}')\n",
        "  plt.grid(True)\n",
        "\n",
        "df['seq_char_count']= df['seq1'].apply(lambda x: len(x))\n",
        "\n",
        "plot_seq_count(df,\"vhh\")\n"
      ],
      "execution_count": null,
      "outputs": [
        {
          "output_type": "stream",
          "text": [
            "/usr/local/lib/python3.7/dist-packages/seaborn/distributions.py:2557: FutureWarning: `distplot` is a deprecated function and will be removed in a future version. Please adapt your code to use either `displot` (a figure-level function with similar flexibility) or `histplot` (an axes-level function for histograms).\n",
            "  warnings.warn(msg, FutureWarning)\n"
          ],
          "name": "stderr"
        },
        {
          "output_type": "display_data",
          "data": {
            "image/png": "[encoded data removed]",
            "text/plain": [
              "<Figure size 432x288 with 1 Axes>"
            ]
          },
          "metadata": {
            "tags": [],
            "needs_background": "light"
          }
        }
      ]
    },
    {
      "cell_type": "code",
      "metadata": {
        "id": "QvowjC7-OUqU",
        "colab": {
          "base_uri": "https://localhost:8080/",
          "height": 338
        },
        "outputId": "206844f7-6469-46d7-cc43-cb81c6e5a88a"
      },
      "source": [
        "df['seq_char_count']= df['seq2'].apply(lambda x: len(x))\n",
        "plot_seq_count(df,\"vl\")"
      ],
      "execution_count": null,
      "outputs": [
        {
          "output_type": "stream",
          "text": [
            "/usr/local/lib/python3.7/dist-packages/seaborn/distributions.py:2557: FutureWarning: `distplot` is a deprecated function and will be removed in a future version. Please adapt your code to use either `displot` (a figure-level function with similar flexibility) or `histplot` (an axes-level function for histograms).\n",
            "  warnings.warn(msg, FutureWarning)\n"
          ],
          "name": "stderr"
        },
        {
          "output_type": "display_data",
          "data": {
            "image/png": "[encoded data removed]",
            "text/plain": [
              "<Figure size 432x288 with 1 Axes>"
            ]
          },
          "metadata": {
            "tags": [],
            "needs_background": "light"
          }
        }
      ]
    }
  ]
}